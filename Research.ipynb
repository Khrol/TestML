{
 "cells": [
  {
   "cell_type": "code",
   "execution_count": 7,
   "metadata": {
    "slideshow": {
     "slide_type": "skip"
    }
   },
   "outputs": [],
   "source": [
    "import warnings\n",
    "warnings.filterwarnings(action=\"ignore\", module=\"scipy\", message=\"^internal gelsd\")\n",
    "\n",
    "from sklearn import linear_model\n",
    "from sklearn import preprocessing\n",
    "from sklearn import metrics\n",
    "from sklearn.model_selection import train_test_split\n",
    "import pandas as pd\n",
    "\n",
    "import matplotlib.pyplot as plt"
   ]
  },
  {
   "cell_type": "markdown",
   "metadata": {
    "slideshow": {
     "slide_type": "slide"
    }
   },
   "source": [
    "## Read data from csv"
   ]
  },
  {
   "cell_type": "code",
   "execution_count": 8,
   "metadata": {},
   "outputs": [
    {
     "data": {
      "text/plain": [
       "Index(['PassengerId', 'Survived', 'Pclass', 'Name', 'Sex', 'Age', 'SibSp',\n",
       "       'Parch', 'Ticket', 'Fare', 'Cabin', 'Embarked'],\n",
       "      dtype='object')"
      ]
     },
     "execution_count": 8,
     "metadata": {},
     "output_type": "execute_result"
    }
   ],
   "source": [
    "data = pd.read_csv('./data/passenger_info.csv')\n",
    "\n",
    "data.columns"
   ]
  },
  {
   "cell_type": "markdown",
   "metadata": {
    "slideshow": {
     "slide_type": "slide"
    }
   },
   "source": [
    "\n",
    "## Create some baseline"
   ]
  },
  {
   "cell_type": "code",
   "execution_count": 11,
   "metadata": {},
   "outputs": [
    {
     "data": {
      "text/plain": [
       "29.69911764705882"
      ]
     },
     "execution_count": 11,
     "metadata": {},
     "output_type": "execute_result"
    }
   ],
   "source": [
    "ages = data[data.Age.notnull()].Age\n",
    "ages.mean()"
   ]
  },
  {
   "cell_type": "code",
   "execution_count": 12,
   "metadata": {},
   "outputs": [
    {
     "data": {
      "text/plain": [
       "Index(['male', 'female'], dtype='object')"
      ]
     },
     "execution_count": 12,
     "metadata": {},
     "output_type": "execute_result"
    }
   ],
   "source": [
    "features = []\n",
    "\n",
    "# Sex\n",
    "array, levels = pd.factorize(data.Sex)\n",
    "data['factorized_sex'] = array\n",
    "features.append('factorized_sex')\n",
    "\n",
    "# Age\n",
    "data['known_age'] = data.Age.notnull().astype(int)\n",
    "features.append('known_age')\n",
    "for age in [10, 20, 30, 40, 50, 60, 70]:\n",
    "    name = 'more_{}_years'.format(age)\n",
    "    data[name] = (data['Age'] >= age).astype(int)\n",
    "    features.append(name)\n",
    "\n",
    "levels"
   ]
  },
  {
   "cell_type": "code",
   "execution_count": 13,
   "metadata": {},
   "outputs": [],
   "source": [
    "X = data[features]\n",
    "y = data.Survived\n",
    "X_train, X_test, y_train, y_test = train_test_split(X, y, test_size=0.3, random_state=0)"
   ]
  },
  {
   "cell_type": "code",
   "execution_count": 14,
   "metadata": {},
   "outputs": [
    {
     "data": {
      "text/plain": [
       "[('factorized_sex', 0.5502789977837783),\n",
       " ('known_age', 0.2093346228418844),\n",
       " ('more_10_years', -0.1450545051890952),\n",
       " ('more_60_years', -0.09503559880384975),\n",
       " ('more_70_years', 0.08756974944594441),\n",
       " ('more_30_years', 0.06335049071641767),\n",
       " ('more_40_years', -0.05404286488022054),\n",
       " ('more_50_years', 0.012385558391905296),\n",
       " ('more_20_years', -0.0023821639994232213)]"
      ]
     },
     "execution_count": 14,
     "metadata": {},
     "output_type": "execute_result"
    }
   ],
   "source": [
    "reg = linear_model.LinearRegression()\n",
    "reg.fit(X_train, y_train)\n",
    "\n",
    "sorted_features = list(sorted(zip(features, reg.coef_), key=lambda x: -abs(x[1])))\n",
    "sorted_features"
   ]
  },
  {
   "cell_type": "code",
   "execution_count": 15,
   "metadata": {},
   "outputs": [],
   "source": [
    "y_predicted = reg.predict(X_test)"
   ]
  },
  {
   "cell_type": "code",
   "execution_count": 16,
   "metadata": {},
   "outputs": [],
   "source": [
    "fpr, tpr, _ = metrics.roc_curve(y_test, y_predicted)\n",
    "roc_auc = metrics.auc(fpr, tpr)"
   ]
  },
  {
   "cell_type": "code",
   "execution_count": 17,
   "metadata": {},
   "outputs": [
    {
     "data": {
      "image/png": "[encoded data removed]",
      "text/plain": [
       "<matplotlib.figure.Figure at 0x110f8ee80>"
      ]
     },
     "metadata": {},
     "output_type": "display_data"
    }
   ],
   "source": [
    "plt.figure()\n",
    "lw = 2\n",
    "plt.plot(fpr, tpr, color='darkorange',\n",
    "         lw=lw, label='ROC curve (area = %0.4f)' % roc_auc)\n",
    "plt.plot([0, 1], [0, 1], color='navy', lw=lw, linestyle='--')\n",
    "plt.xlim([0.0, 1.0])\n",
    "plt.ylim([0.0, 1.05])\n",
    "plt.xlabel('False Positive Rate')\n",
    "plt.ylabel('True Positive Rate')\n",
    "plt.title('Receiver operating characteristic example')\n",
    "plt.legend(loc=\"lower right\")\n",
    "plt.show()"
   ]
  },
  {
   "cell_type": "code",
   "execution_count": 18,
   "metadata": {},
   "outputs": [],
   "source": [
    "# Fare\n",
    "min_max_scaler = preprocessing.MinMaxScaler()\n",
    "data['scaled_fare'] = min_max_scaler.fit_transform(data[['Fare']])\n",
    "features.append('scaled_fare')    \n",
    "    \n",
    "# Class\n",
    "for cl_num in [1, 3]:\n",
    "    name = 'class{}'.format(cl_num)\n",
    "    data[name] = (data['Pclass'] == cl_num).astype(int)\n",
    "    features.append(name)\n",
    "\n",
    "for sp in [1,2,3,4,5]:\n",
    "    name = 'sib_sp_{}'.format(sp)\n",
    "    data[name] = (data.SibSp == sp).astype(int)\n",
    "    features.append(name)\n",
    "    \n",
    "for emb in ['C', 'Q', 'S']:\n",
    "    name = 'embarked{}'.format(emb)\n",
    "    data[name] = (data.Embarked == emb).astype(int)\n",
    "    features.append(name)\n",
    "    "
   ]
  },
  {
   "cell_type": "code",
   "execution_count": 19,
   "metadata": {},
   "outputs": [],
   "source": [
    "X = data[features]\n",
    "y = data.Survived\n",
    "X_train, X_test, y_train, y_test = train_test_split(X, y, test_size=0.3, random_state=0)"
   ]
  },
  {
   "cell_type": "code",
   "execution_count": 20,
   "metadata": {},
   "outputs": [
    {
     "data": {
      "text/plain": [
       "[('sib_sp_4', -0.6094350492631067),\n",
       " ('factorized_sex', 0.4897021703624261),\n",
       " ('sib_sp_3', -0.44746407743397243),\n",
       " ('known_age', 0.44067846360381696),\n",
       " ('more_10_years', -0.3879381213695838),\n",
       " ('sib_sp_5', -0.36110806590807537),\n",
       " ('embarkedS', -0.21615587334465106),\n",
       " ('class3', -0.15833660008320938),\n",
       " ('class1', 0.14896855700336806),\n",
       " ('embarkedC', -0.14080616102548948),\n",
       " ('more_60_years', -0.13098754315111358),\n",
       " ('scaled_fare', 0.11314638777258867),\n",
       " ('sib_sp_2', -0.09535474620752135),\n",
       " ('embarkedQ', -0.08750071880558272),\n",
       " ('more_40_years', -0.07638274488641952),\n",
       " ('more_70_years', 0.07037725332428009),\n",
       " ('more_50_years', -0.05181982988051265),\n",
       " ('sib_sp_1', 0.02771502503090463),\n",
       " ('more_20_years', 0.005643842599454038),\n",
       " ('more_30_years', 0.0009953268513427094)]"
      ]
     },
     "execution_count": 20,
     "metadata": {},
     "output_type": "execute_result"
    }
   ],
   "source": [
    "reg = linear_model.LinearRegression()\n",
    "reg.fit(X_train, y_train)\n",
    "\n",
    "sorted_features = list(sorted(zip(features, reg.coef_), key=lambda x: -abs(x[1])))\n",
    "sorted_features"
   ]
  },
  {
   "cell_type": "code",
   "execution_count": 21,
   "metadata": {},
   "outputs": [],
   "source": [
    "y_predicted = reg.predict(X_test)"
   ]
  },
  {
   "cell_type": "code",
   "execution_count": 22,
   "metadata": {},
   "outputs": [],
   "source": [
    "fpr_full, tpr_full, _ = metrics.roc_curve(y_test, y_predicted)\n",
    "roc_auc_full = metrics.auc(fpr_full, tpr_full)"
   ]
  },
  {
   "cell_type": "code",
   "execution_count": 23,
   "metadata": {},
   "outputs": [
    {
     "data": {
      "image/png": "[encoded data removed]",
      "text/plain": [
       "<matplotlib.figure.Figure at 0x110fd1208>"
      ]
     },
     "metadata": {},
     "output_type": "display_data"
    }
   ],
   "source": [
    "plt.figure()\n",
    "lw = 2\n",
    "plt.plot(fpr, tpr, color='darkorange',\n",
    "         lw=lw, label='ROC curve (area = %0.4f)' % roc_auc)\n",
    "plt.plot(fpr_full, tpr_full, color='red',\n",
    "         lw=lw, label='ROC curve (area = %0.4f)' % roc_auc_full)\n",
    "plt.plot([0, 1], [0, 1], color='navy', lw=lw, linestyle='--')\n",
    "plt.xlim([0.0, 1.0])\n",
    "plt.ylim([0.0, 1.05])\n",
    "plt.xlabel('False Positive Rate')\n",
    "plt.ylabel('True Positive Rate')\n",
    "plt.title('Receiver operating characteristic example')\n",
    "plt.legend(loc=\"lower right\")\n",
    "plt.show()"
   ]
  },
  {
   "cell_type": "code",
   "execution_count": 24,
   "metadata": {},
   "outputs": [
    {
     "data": {
      "text/plain": [
       "['sib_sp_4',\n",
       " 'factorized_sex',\n",
       " 'sib_sp_3',\n",
       " 'known_age',\n",
       " 'more_10_years',\n",
       " 'sib_sp_5',\n",
       " 'embarkedS',\n",
       " 'class3',\n",
       " 'class1']"
      ]
     },
     "execution_count": 24,
     "metadata": {},
     "output_type": "execute_result"
    }
   ],
   "source": [
    "features_part = list(map(lambda x: x[0], sorted_features[:9]))\n",
    "features_part"
   ]
  },
  {
   "cell_type": "code",
   "execution_count": 25,
   "metadata": {},
   "outputs": [],
   "source": [
    "X = data[features_part]\n",
    "y = data.Survived\n",
    "X_train, X_test, y_train, y_test = train_test_split(X, y, test_size=0.3, random_state=0)"
   ]
  },
  {
   "cell_type": "code",
   "execution_count": 26,
   "metadata": {},
   "outputs": [
    {
     "data": {
      "text/plain": [
       "array([-0.59219715,  0.50413907, -0.4377684 ,  0.42059545, -0.39268102,\n",
       "       -0.34329523, -0.09384483, -0.15200828,  0.13527439])"
      ]
     },
     "execution_count": 26,
     "metadata": {},
     "output_type": "execute_result"
    }
   ],
   "source": [
    "reg = linear_model.LinearRegression()\n",
    "reg.fit(X_train, y_train)\n",
    "\n",
    "reg.coef_"
   ]
  },
  {
   "cell_type": "code",
   "execution_count": 27,
   "metadata": {},
   "outputs": [],
   "source": [
    "y_predicted = reg.predict(X_test)"
   ]
  },
  {
   "cell_type": "code",
   "execution_count": 28,
   "metadata": {},
   "outputs": [],
   "source": [
    "fpr_part, tpr_part, thresholds = metrics.roc_curve(y_test, y_predicted)\n",
    "roc_auc_part = metrics.auc(fpr_part, tpr_part)"
   ]
  },
  {
   "cell_type": "code",
   "execution_count": 29,
   "metadata": {},
   "outputs": [
    {
     "data": {
      "image/png": "[encoded data removed]",
      "text/plain": [
       "<matplotlib.figure.Figure at 0x110fdfe48>"
      ]
     },
     "metadata": {},
     "output_type": "display_data"
    }
   ],
   "source": [
    "plt.figure()\n",
    "lw = 2\n",
    "plt.plot(fpr, tpr, color='darkorange',\n",
    "         lw=lw, label='ROC curve (area = %0.4f)' % roc_auc)\n",
    "plt.plot(fpr_full, tpr_full, color='red',\n",
    "         lw=lw, label='ROC curve (area = %0.4f)' % roc_auc_full)\n",
    "plt.plot(fpr_part, tpr_part, color='green',\n",
    "         lw=lw, label='ROC curve (area = %0.4f)' % roc_auc_part)\n",
    "plt.plot([0, 1], [0, 1], color='navy', lw=lw, linestyle='--')\n",
    "plt.xlim([0.0, 1.0])\n",
    "plt.ylim([0.0, 1.05])\n",
    "plt.xlabel('False Positive Rate')\n",
    "plt.ylabel('True Positive Rate')\n",
    "plt.title('Receiver operating characteristic example')\n",
    "plt.legend(loc=\"lower right\")\n",
    "plt.show()"
   ]
  },
  {
   "cell_type": "code",
   "execution_count": 30,
   "metadata": {},
   "outputs": [],
   "source": [
    "from sklearn.externals import joblib"
   ]
  },
  {
   "cell_type": "code",
   "execution_count": 31,
   "metadata": {},
   "outputs": [
    {
     "data": {
      "text/plain": [
       "['model.pkl']"
      ]
     },
     "execution_count": 31,
     "metadata": {},
     "output_type": "execute_result"
    }
   ],
   "source": [
    "joblib.dump(reg, 'model.pkl')"
   ]
  },
  {
   "cell_type": "code",
   "execution_count": 32,
   "metadata": {},
   "outputs": [
    {
     "data": {
      "text/plain": [
       "(array([0.        , 0.00595238, 0.00595238, 0.00595238, 0.00595238,\n",
       "        0.00595238, 0.00595238, 0.01190476, 0.01190476, 0.0297619 ,\n",
       "        0.05357143, 0.05357143, 0.13690476, 0.13690476, 0.14285714,\n",
       "        0.1547619 , 0.1547619 , 0.19047619, 0.20238095, 0.26190476,\n",
       "        0.27380952, 0.29166667, 0.29166667, 0.30357143, 0.42857143,\n",
       "        0.44642857, 0.5       , 0.5       , 0.57142857, 0.85714286,\n",
       "        0.95238095, 0.95833333, 0.9702381 , 0.97619048, 0.98809524,\n",
       "        1.        ]),\n",
       " array([0.04, 0.05, 0.07, 0.21, 0.23, 0.33, 0.34, 0.48, 0.49, 0.54, 0.59,\n",
       "        0.6 , 0.69, 0.7 , 0.7 , 0.7 , 0.72, 0.78, 0.79, 0.82, 0.85, 0.85,\n",
       "        0.86, 0.86, 0.87, 0.87, 0.88, 0.89, 0.91, 0.97, 0.98, 0.99, 0.99,\n",
       "        1.  , 1.  , 1.  ]),\n",
       " array([ 1.13033624,  1.0721728 ,  0.97832797,  0.96677445,  0.93886002,\n",
       "         0.87292961,  0.83150005,  0.73765522,  0.70974079,  0.67949178,\n",
       "         0.65157735,  0.62619718,  0.58564694,  0.56803373,  0.55773252,\n",
       "         0.54055957,  0.4741889 ,  0.46263538,  0.43472095,  0.36879055,\n",
       "         0.34087612,  0.32736099,  0.29988682,  0.24235172,  0.23351615,\n",
       "         0.20560173,  0.17535271,  0.14787855,  0.14743828,  0.08150788,\n",
       "         0.05359345, -0.00655021, -0.06897785, -0.11800825, -0.35626052,\n",
       "        -0.51068928]))"
      ]
     },
     "execution_count": 32,
     "metadata": {},
     "output_type": "execute_result"
    }
   ],
   "source": [
    "fpr_part, tpr_part, thresholds"
   ]
  },
  {
   "cell_type": "code",
   "execution_count": 33,
   "metadata": {},
   "outputs": [
    {
     "data": {
      "text/plain": [
       "[0.3687905466217284,\n",
       " 0.3408761207316009,\n",
       " 0.3273609861108162,\n",
       " 0.2998868229427074,\n",
       " 0.24235171771825076,\n",
       " 0.23351615224243644,\n",
       " 0.20560172635230894,\n",
       " 0.17535270970551836,\n",
       " 0.14787854653740956,\n",
       " 0.14743828381539087,\n",
       " 0.08150787583713859,\n",
       " 0.053593449947011096,\n",
       " -0.0065502092595716155,\n",
       " -0.06897785032025083,\n",
       " -0.11800825201582804,\n",
       " -0.3562605211048405,\n",
       " -0.5106892769018218]"
      ]
     },
     "execution_count": 33,
     "metadata": {},
     "output_type": "execute_result"
    }
   ],
   "source": [
    "[thresholds[i] for i in range(len(fpr_part)) if fpr_part[i] > 1 - tpr_part[i]]"
   ]
  },
  {
   "cell_type": "code",
   "execution_count": null,
   "metadata": {},
   "outputs": [],
   "source": []
  }
 ],
 "metadata": {
  "celltoolbar": "Slideshow",
  "kernelspec": {
   "display_name": "Python 3",
   "language": "python",
   "name": "python3"
  },
  "language_info": {
   "codemirror_mode": {
    "name": "ipython",
    "version": 3
   },
   "file_extension": ".py",
   "mimetype": "text/x-python",
   "name": "python",
   "nbconvert_exporter": "python",
   "pygments_lexer": "ipython3",
   "version": "3.6.3"
  }
 },
 "nbformat": 4,
 "nbformat_minor": 2
}
