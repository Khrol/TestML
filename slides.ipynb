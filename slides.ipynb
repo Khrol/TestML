{
 "cells": [
  {
   "cell_type": "markdown",
   "metadata": {
    "slideshow": {
     "slide_type": "slide"
    }
   },
   "source": [
    "<h1>Как тестировать<br/>\n",
    "Machine Learning и Artificial Intelligence?</h1>\n",
    "\n",
    "<br/>\n",
    "<br/>\n",
    "\n",
    "### Игорь Хрол, Минск"
   ]
  },
  {
   "cell_type": "markdown",
   "metadata": {
    "slideshow": {
     "slide_type": "slide"
    }
   },
   "source": [
    "<div>\n",
    "  <div style=\"float: left; width: 60%;\">\n",
    "      <h1>Кто перед вами?</h1>\n",
    "      <ul>\n",
    "    <li>Игорь Хрол</li>\n",
    "<li>Team Lead в отделе Data в Automattic (WordPress)</li>\n",
    "<li>15 лет в отрасли</li>\n",
    "<li>Инженер, тимлид, менеджер, архитектор, тренер, консультант</li>\n",
    "<li>Python, Scala, Ruby, Java, SQL и другое</li>\n",
    "          <li><a>www.khroliz.com</a></li>\n",
    "                </ul>\n",
    "  </div>\n",
    "  <div style=\"float: left; width: 40%;\">\n",
    "      <img src='images/avatar.jpg'>\n",
    "   </div>\n",
    "</div>\n",
    "\n",
    "\n"
   ]
  },
  {
   "cell_type": "markdown",
   "metadata": {
    "slideshow": {
     "slide_type": "slide"
    }
   },
   "source": [
    "# Где скачать?\n",
    "\n",
    "[github.com/Khrol/TestML](https://github.com/Khrol/TestML)\n",
    "\n",
    "  <div style=\"float: left; width: 50%;\">\n",
    "    <img src='images/repo_qr.jpg'>\n",
    "  </div>\n",
    "  <div style=\"float: left; width: 50%;\">\n",
    "        <img src='images/star_video.gif'>\n",
    "    </div>"
   ]
  },
  {
   "cell_type": "markdown",
   "metadata": {
    "slideshow": {
     "slide_type": "slide"
    }
   },
   "source": [
    "![joke](images/joke.jpg)"
   ]
  },
  {
   "cell_type": "code",
   "execution_count": null,
   "metadata": {
    "slideshow": {
     "slide_type": "slide"
    }
   },
   "outputs": [],
   "source": [
    "42-41"
   ]
  },
  {
   "cell_type": "markdown",
   "metadata": {
    "slideshow": {
     "slide_type": "slide"
    }
   },
   "source": [
    "<div style=\"float: left; width: 50%;\">\n",
    "\n",
    "<h2>I. Research</h2>\n",
    "\n",
    "<h2>II. Development</h2>\n",
    "\n",
    "<h2>III. Production</h2>\n",
    "</div>\n",
    "  <div style=\"float: left; width: 50%;\">\n",
    "          <img src='images/plan.jpg' style=\"max-height: 100%;\"/>\n",
    "    </div>"
   ]
  },
  {
   "cell_type": "markdown",
   "metadata": {
    "slideshow": {
     "slide_type": "slide"
    }
   },
   "source": [
    "<h1>Что такое Machine Learning?</h1>\n",
    "\n",
    "<br/>\n",
    "<div>\n",
    "<div style=\"text-align: center;\">\n",
    "класс методов искусственного интеллекта, характерной чертой которых является не прямое решение задачи, а обучение в процессе применения решений множества сходных задач\n",
    "</div>\n",
    "<div style=\"height: 300px;\">\n",
    "<img src='images/wiki_logo.png' style=\"max-height: 100%\"/>\n",
    "    </div>\n",
    "<div>"
   ]
  },
  {
   "cell_type": "markdown",
   "metadata": {
    "slideshow": {
     "slide_type": "slide"
    }
   },
   "source": [
    "![titanic](images/titanic.jpg)"
   ]
  },
  {
   "cell_type": "markdown",
   "metadata": {
    "slideshow": {
     "slide_type": "slide"
    }
   },
   "source": [
    "# I. Research\n",
    "\n",
    "![research](images/research.jpg)"
   ]
  },
  {
   "cell_type": "markdown",
   "metadata": {
    "slideshow": {
     "slide_type": "slide"
    }
   },
   "source": [
    "# Что используем?"
   ]
  },
  {
   "cell_type": "code",
   "execution_count": null,
   "metadata": {
    "slideshow": {
     "slide_type": "-"
    }
   },
   "outputs": [],
   "source": [
    "from sklearn import linear_model\n",
    "from sklearn import preprocessing\n",
    "from sklearn import metrics\n",
    "from sklearn.model_selection import train_test_split\n",
    "import pandas as pd\n",
    "\n",
    "import matplotlib.pyplot as plt"
   ]
  },
  {
   "cell_type": "markdown",
   "metadata": {
    "slideshow": {
     "slide_type": "slide"
    }
   },
   "source": [
    "## Чтение данных"
   ]
  },
  {
   "cell_type": "code",
   "execution_count": null,
   "metadata": {},
   "outputs": [],
   "source": [
    "data = pd.read_csv('./data/passengers_info.csv')"
   ]
  },
  {
   "cell_type": "code",
   "execution_count": null,
   "metadata": {},
   "outputs": [],
   "source": [
    "data.columns"
   ]
  },
  {
   "cell_type": "markdown",
   "metadata": {
    "slideshow": {
     "slide_type": "slide"
    }
   },
   "source": [
    "\n",
    "## Создание baseline\n",
    "\n",
    "![baseline](images/baseline.jpg)"
   ]
  },
  {
   "cell_type": "markdown",
   "metadata": {
    "slideshow": {
     "slide_type": "slide"
    }
   },
   "source": [
    "## Создание baseline"
   ]
  },
  {
   "cell_type": "code",
   "execution_count": null,
   "metadata": {
    "slideshow": {
     "slide_type": "-"
    }
   },
   "outputs": [],
   "source": [
    "features_dataframe = pd.DataFrame()"
   ]
  },
  {
   "cell_type": "code",
   "execution_count": null,
   "metadata": {},
   "outputs": [],
   "source": [
    "array, levels = pd.factorize(data.Sex)\n",
    "features_dataframe['factorized_sex'] = array"
   ]
  },
  {
   "cell_type": "code",
   "execution_count": null,
   "metadata": {},
   "outputs": [],
   "source": [
    "features_dataframe['known_age'] = data.Age.notnull().astype(int)\n",
    "features_dataframe"
   ]
  },
  {
   "cell_type": "markdown",
   "metadata": {
    "slideshow": {
     "slide_type": "slide"
    }
   },
   "source": [
    "## Обучающие и тестовые выборки\n",
    "\n",
    "![train_test](images/train_test_data.jpg)"
   ]
  },
  {
   "cell_type": "markdown",
   "metadata": {
    "slideshow": {
     "slide_type": "slide"
    }
   },
   "source": [
    "## Обучающие и тестовые выборки"
   ]
  },
  {
   "cell_type": "code",
   "execution_count": null,
   "metadata": {},
   "outputs": [],
   "source": [
    "X = features_dataframe\n",
    "y = data.Survived\n",
    "X_train, X_test, y_train, y_test = train_test_split(X, y, test_size=0.33, random_state=0)"
   ]
  },
  {
   "cell_type": "code",
   "execution_count": null,
   "metadata": {},
   "outputs": [],
   "source": [
    "(len(X), len(X_train), len(X_test))"
   ]
  },
  {
   "cell_type": "markdown",
   "metadata": {
    "slideshow": {
     "slide_type": "slide"
    }
   },
   "source": [
    "\n",
    "  <div style=\"float: left; width: 50%;\">\n",
    "  <h2>Логистическая регрессия</h2>\n",
    "  <br/>\n",
    "$$y = f(\\vec{w}\\cdot\\vec{x}) = f\\left(\\sum_j w_j x_j\\right)$$  \n",
    "</br>\n",
    "$$f(t)=\\frac{1}{1+e^{-t}} $$\n",
    "</div>\n",
    "  <div style=\"float: left; width: 50%;\">\n",
    "    <img src='images/perceptron.png'/>\n",
    "    <img src='images/logistic_curve.png'/>\n",
    "</div>\n",
    "\n"
   ]
  },
  {
   "cell_type": "markdown",
   "metadata": {
    "slideshow": {
     "slide_type": "slide"
    }
   },
   "source": [
    "## Линейная регрессия"
   ]
  },
  {
   "cell_type": "code",
   "execution_count": null,
   "metadata": {
    "slideshow": {
     "slide_type": "-"
    }
   },
   "outputs": [],
   "source": [
    "reg = linear_model.LogisticRegression()\n",
    "reg.fit(X_train, y_train)\n",
    "reg.coef_"
   ]
  },
  {
   "cell_type": "markdown",
   "metadata": {
    "slideshow": {
     "slide_type": "slide"
    }
   },
   "source": [
    "# Оценка результата"
   ]
  },
  {
   "cell_type": "code",
   "execution_count": null,
   "metadata": {},
   "outputs": [],
   "source": [
    "y_predicted = reg.predict_proba(X_test).T[1]"
   ]
  },
  {
   "cell_type": "code",
   "execution_count": null,
   "metadata": {},
   "outputs": [],
   "source": [
    "y_predicted"
   ]
  },
  {
   "cell_type": "markdown",
   "metadata": {
    "slideshow": {
     "slide_type": "slide"
    }
   },
   "source": [
    "# Оценка результата\n",
    "\n",
    "\n",
    "\n",
    "  <div style=\"float: left; width: 60%;\">\n",
    "<h2>Кривая ошибок</h2>\n",
    "<ol>\n",
    "    <li>TP (True Positives)</li>\n",
    "    <li>TN (True Negatives)</li>\n",
    "    <li>FN (False Negatives)</li>\n",
    "    <li>FP (False Positives)</li>\n",
    "</ol>\n",
    "    $$TPR = \\frac{TP}{TP + FN}$$\n",
    "    <br/>\n",
    "    $$FPR = \\frac{FP}{TN + FP}$$\n",
    "</div>\n",
    "  <div style=\"float: left; width: 40%;\">\n",
    "    <img src='images/roc_curves.png'/>\n",
    "</div>\n"
   ]
  },
  {
   "cell_type": "markdown",
   "metadata": {
    "slideshow": {
     "slide_type": "slide"
    }
   },
   "source": [
    "# Оценка результата"
   ]
  },
  {
   "cell_type": "code",
   "execution_count": null,
   "metadata": {},
   "outputs": [],
   "source": [
    "fpr, tpr, _ = metrics.roc_curve(y_test, y_predicted)\n",
    "roc_auc = metrics.auc(fpr, tpr)\n",
    "\n",
    "def init_plt():\n",
    "    plt.figure(figsize=(14,7))\n",
    "    lw = 2\n",
    "    plt.plot([0, 1], [0, 1], color='navy', lw=lw, linestyle='--')\n",
    "    plt.xlim([0.0, 1.0])\n",
    "    plt.ylim([0.0, 1.05])\n",
    "    plt.xlabel('False Positive Rate')\n",
    "    plt.ylabel('True Positive Rate')\n",
    "    plt.title('Receiver operating characteristic example')\n",
    "    \n",
    "roc_auc"
   ]
  },
  {
   "cell_type": "markdown",
   "metadata": {
    "slideshow": {
     "slide_type": "slide"
    }
   },
   "source": [
    "# Оценка результата"
   ]
  },
  {
   "cell_type": "code",
   "execution_count": null,
   "metadata": {
    "scrolled": true,
    "slideshow": {
     "slide_type": "-"
    }
   },
   "outputs": [],
   "source": [
    "init_plt()\n",
    "plt.plot(fpr, tpr, color='darkorange', lw=2, label='ROC curve (area = %0.4f)' % roc_auc)\n",
    "plt.legend(loc=\"lower right\")\n",
    "plt.show()"
   ]
  },
  {
   "cell_type": "markdown",
   "metadata": {
    "slideshow": {
     "slide_type": "slide"
    }
   },
   "source": [
    "# Feature engineering: scaling"
   ]
  },
  {
   "cell_type": "code",
   "execution_count": null,
   "metadata": {},
   "outputs": [],
   "source": [
    "min_max_scaler = preprocessing.MinMaxScaler()\n",
    "features_dataframe['scaled_fare'] = min_max_scaler.fit_transform(data[['Fare']])"
   ]
  },
  {
   "cell_type": "code",
   "execution_count": null,
   "metadata": {},
   "outputs": [],
   "source": [
    "features_dataframe"
   ]
  },
  {
   "cell_type": "markdown",
   "metadata": {
    "slideshow": {
     "slide_type": "slide"
    }
   },
   "source": [
    "# Feature engineering: категориальные признаки"
   ]
  },
  {
   "cell_type": "code",
   "execution_count": null,
   "metadata": {},
   "outputs": [],
   "source": [
    "for cl_num in [1, 2]:\n",
    "    name = 'class{}'.format(cl_num)\n",
    "    features_dataframe[name] = (data['Pclass'] == cl_num).astype(int)\n",
    "\n",
    "for sp in [1, 2, 3, 4]:\n",
    "    name = 'sib_sp_{}'.format(sp)\n",
    "    features_dataframe[name] = (data.SibSp == sp).astype(int)\n",
    "    \n",
    "for emb in ['C', 'Q', 'S']:\n",
    "    name = 'embarked{}'.format(emb)\n",
    "    features_dataframe[name] = (data.Embarked == emb).astype(int) \n",
    "    \n",
    "for parch in [0, 1, 2]:\n",
    "    name = 'parch{}'.format(parch)\n",
    "    features_dataframe[name] = (data.Parch == parch).astype(int) \n",
    "    \n",
    "for age in [10, 20, 30, 40, 50, 60, 70]:\n",
    "    name = 'more_{}_years'.format(age)\n",
    "    features_dataframe[name] = (data['Age'] >= age).astype(int)"
   ]
  },
  {
   "cell_type": "code",
   "execution_count": null,
   "metadata": {},
   "outputs": [],
   "source": [
    "features_dataframe"
   ]
  },
  {
   "cell_type": "markdown",
   "metadata": {
    "slideshow": {
     "slide_type": "slide"
    }
   },
   "source": [
    "# Повторяем на большем числе признаков"
   ]
  },
  {
   "cell_type": "code",
   "execution_count": null,
   "metadata": {},
   "outputs": [],
   "source": [
    "X = features_dataframe\n",
    "y = data.Survived\n",
    "X_train, X_test, y_train, y_test = train_test_split(X, y, test_size=0.33, random_state=0)"
   ]
  },
  {
   "cell_type": "code",
   "execution_count": null,
   "metadata": {},
   "outputs": [],
   "source": [
    "reg = linear_model.LogisticRegression()\n",
    "reg.fit(X_train, y_train)"
   ]
  },
  {
   "cell_type": "code",
   "execution_count": null,
   "metadata": {},
   "outputs": [],
   "source": [
    "y_predicted = reg.predict_proba(X_test).T[1]"
   ]
  },
  {
   "cell_type": "code",
   "execution_count": null,
   "metadata": {},
   "outputs": [],
   "source": [
    "fpr_full, tpr_full, _ = metrics.roc_curve(y_test, y_predicted)\n",
    "roc_auc_full = metrics.auc(fpr_full, tpr_full)\n",
    "roc_auc_full"
   ]
  },
  {
   "cell_type": "code",
   "execution_count": null,
   "metadata": {
    "slideshow": {
     "slide_type": "slide"
    }
   },
   "outputs": [],
   "source": [
    "init_plt()\n",
    "plt.plot(fpr, tpr, color='darkorange', lw=2, label='ROC curve (area = %0.4f)' % roc_auc)\n",
    "plt.plot(fpr_full, tpr_full, color='red', lw=2, label='ROC curve (area = %0.4f)' % roc_auc_full)\n",
    "plt.legend(loc=\"lower right\")\n",
    "plt.show()"
   ]
  },
  {
   "cell_type": "markdown",
   "metadata": {
    "slideshow": {
     "slide_type": "slide"
    }
   },
   "source": [
    "# Больше не значит лучше"
   ]
  },
  {
   "cell_type": "code",
   "execution_count": null,
   "metadata": {},
   "outputs": [],
   "source": [
    "sorted_features = list(sorted(zip(features_dataframe.columns, reg.coef_[0]),\n",
    "                              key=lambda x: -abs(x[1])))\n",
    "sorted_features"
   ]
  },
  {
   "cell_type": "markdown",
   "metadata": {
    "slideshow": {
     "slide_type": "slide"
    }
   },
   "source": [
    "# Пересматриваем модель на 10-ми признаках"
   ]
  },
  {
   "cell_type": "code",
   "execution_count": null,
   "metadata": {},
   "outputs": [],
   "source": [
    "features_part = list(map(lambda x: x[0], sorted_features[:10]))\n",
    "features_part"
   ]
  },
  {
   "cell_type": "code",
   "execution_count": null,
   "metadata": {},
   "outputs": [],
   "source": [
    "X = features_dataframe[features_part]\n",
    "y = data.Survived\n",
    "X_train, X_test, y_train, y_test = train_test_split(X, y, test_size=0.33, random_state=0)"
   ]
  },
  {
   "cell_type": "code",
   "execution_count": null,
   "metadata": {},
   "outputs": [],
   "source": [
    "reg = linear_model.LogisticRegression()\n",
    "reg.fit(X_train, y_train)\n",
    "\n",
    "reg.coef_"
   ]
  },
  {
   "cell_type": "markdown",
   "metadata": {
    "slideshow": {
     "slide_type": "slide"
    }
   },
   "source": [
    "# Пересматриваем модель на 10-ми признаках"
   ]
  },
  {
   "cell_type": "code",
   "execution_count": null,
   "metadata": {},
   "outputs": [],
   "source": [
    "y_predicted = reg.predict_proba(X_test).T[1]"
   ]
  },
  {
   "cell_type": "code",
   "execution_count": null,
   "metadata": {},
   "outputs": [],
   "source": [
    "fpr_part, tpr_part, thresholds = metrics.roc_curve(y_test, y_predicted)\n",
    "roc_auc_part = metrics.auc(fpr_part, tpr_part)\n",
    "roc_auc_part"
   ]
  },
  {
   "cell_type": "code",
   "execution_count": null,
   "metadata": {
    "slideshow": {
     "slide_type": "slide"
    }
   },
   "outputs": [],
   "source": [
    "init_plt()\n",
    "plt.plot(fpr, tpr, color='darkorange', lw=2, label='ROC curve (area = %0.4f)' % roc_auc)\n",
    "plt.plot(fpr_full, tpr_full, color='red', lw=2, label='ROC curve (area = %0.4f)' % roc_auc_full)\n",
    "plt.plot(fpr_part, tpr_part, color='green', lw=2, label='ROC curve (area = %0.4f)' % roc_auc_part)\n",
    "plt.legend(loc=\"lower right\")\n",
    "plt.show()"
   ]
  },
  {
   "cell_type": "markdown",
   "metadata": {
    "slideshow": {
     "slide_type": "slide"
    }
   },
   "source": [
    "# Выбор threshold"
   ]
  },
  {
   "cell_type": "code",
   "execution_count": null,
   "metadata": {},
   "outputs": [],
   "source": [
    "fpr_part, tpr_part, thresholds"
   ]
  },
  {
   "cell_type": "markdown",
   "metadata": {
    "slideshow": {
     "slide_type": "slide"
    }
   },
   "source": [
    "# Выбор threshold"
   ]
  },
  {
   "cell_type": "code",
   "execution_count": null,
   "metadata": {
    "slideshow": {
     "slide_type": "-"
    }
   },
   "outputs": [],
   "source": [
    "for i in range(1, len(fpr_part)):\n",
    "    if fpr_part[i - 1] < 1 - tpr_part[i - 1] and fpr_part[i] > 1 - tpr_part[i]:\n",
    "        print(thresholds[i - 1], thresholds[i])\n",
    "        break"
   ]
  },
  {
   "cell_type": "markdown",
   "metadata": {
    "slideshow": {
     "slide_type": "slide"
    }
   },
   "source": [
    "# II. Development\n",
    "\n",
    "![development](images/development.jpg)"
   ]
  },
  {
   "cell_type": "markdown",
   "metadata": {
    "slideshow": {
     "slide_type": "slide"
    }
   },
   "source": [
    "# Сохраняем модель"
   ]
  },
  {
   "cell_type": "code",
   "execution_count": null,
   "metadata": {},
   "outputs": [],
   "source": [
    "import joblib\n",
    "\n",
    "joblib.dump(reg, 'model.pkl')"
   ]
  },
  {
   "cell_type": "markdown",
   "metadata": {
    "slideshow": {
     "slide_type": "slide"
    }
   },
   "source": [
    "![demo](images/demo.png)"
   ]
  },
  {
   "cell_type": "markdown",
   "metadata": {
    "slideshow": {
     "slide_type": "slide"
    }
   },
   "source": [
    "# Сравниваем с Research"
   ]
  },
  {
   "cell_type": "code",
   "execution_count": null,
   "metadata": {},
   "outputs": [],
   "source": [
    "import requests\n",
    "import json\n",
    "\n",
    "all_predicted_y = reg.predict_proba(X).T[1]\n",
    "EPS = 0.000001\n",
    "\n",
    "def test_record(record):\n",
    "    id = record['PassengerId']\n",
    "    actual_result = requests.post('http://localhost:5000/classify',\n",
    "                    headers={'Content-Type': 'application/json'}, \n",
    "                    data=json.dumps({'sex': record['Sex'], 'sib_sp': record['SibSp'], 'age': record['Age'],\n",
    "                                   'ticket_class': record['Pclass'], 'parch': record['Parch'], \n",
    "                                   'embarked': record['Embarked']}))\n",
    "    actual_score = actual_result.json()['score']\n",
    "    expected_score = all_predicted_y[id - 1]\n",
    "    print(record['PassengerId'], expected_score, actual_score)\n",
    "    assert abs(expected_score - actual_score) < EPS\n",
    "\n",
    "data.sample(10).apply(test_record, axis=1)"
   ]
  },
  {
   "cell_type": "markdown",
   "metadata": {
    "slideshow": {
     "slide_type": "slide"
    }
   },
   "source": [
    "# III. Production\n",
    "\n",
    "![production](images/production.jpg)"
   ]
  },
  {
   "cell_type": "markdown",
   "metadata": {
    "slideshow": {
     "slide_type": "slide"
    }
   },
   "source": [
    "<div style=\"float: left; width: 60%;\">\n",
    "<h1>Воспроизводимость</h1>\n",
    "\n",
    "</div>\n",
    "  <img src='images/repeat_logs.jpeg' style=\"max-height: 100%;\"/>"
   ]
  },
  {
   "cell_type": "markdown",
   "metadata": {
    "slideshow": {
     "slide_type": "slide"
    }
   },
   "source": [
    "# Устаревание модели\n",
    "\n",
    "![ships](images/ships.png)"
   ]
  },
  {
   "cell_type": "markdown",
   "metadata": {
    "slideshow": {
     "slide_type": "slide"
    }
   },
   "source": [
    "# Напоследок о том, что делает ML и AI успешными\n",
    "\n",
    "![pyramid](images/pyramid.png)"
   ]
  },
  {
   "cell_type": "markdown",
   "metadata": {
    "slideshow": {
     "slide_type": "slide"
    }
   },
   "source": [
    "# Другие материалы\n",
    "\n",
    "- [www.youtube.com/watch?v=T_YWBGApUgs&t=21524s](https://www.youtube.com/watch?v=T_YWBGApUgs&t=21524s)\n",
    "- [www.eecs.tufts.edu/~dsculley/papers/ml_test_score.pdf](https://www.eecs.tufts.edu/~dsculley/papers/ml_test_score.pdf)\n",
    "- [kaggle.com](http://kaggle.com/)\n",
    "- [ods.ai](http://ods.ai/)\n",
    "- [The AI Hierarchy of Needs](https://medium.com/hackernoon/the-ai-hierarchy-of-needs-18f111fcc007)"
   ]
  },
  {
   "cell_type": "markdown",
   "metadata": {
    "slideshow": {
     "slide_type": "slide"
    }
   },
   "source": [
    "<div style=\"float: left; width: 70%;\">\n",
    "<h1>Спасибо за внимание!<br/>Вопросы?<br/></h1>\n",
    "<h2>Игорь Хрол</h2>\n",
    "<h2><a href='khroliz@gmail.com'>khroliz@gmail.com</a></h2>\n",
    "    <h2><a href='https://github.com/Khrol/TestML'>https://github.com/Khrol/TestML</a></h2>\n",
    "\n",
    "</div>\n",
    "  <div style=\"float: left; width: 30%; height: 600px;\">\n",
    "  <img src='images/question.png' style=\"max-height: 100%;\"/>\n",
    "    </div>"
   ]
  }
 ],
 "metadata": {
  "celltoolbar": "Slideshow",
  "kernelspec": {
   "display_name": "Python 3",
   "language": "python",
   "name": "python3"
  },
  "language_info": {
   "codemirror_mode": {
    "name": "ipython",
    "version": 3
   },
   "file_extension": ".py",
   "mimetype": "text/x-python",
   "name": "python",
   "nbconvert_exporter": "python",
   "pygments_lexer": "ipython3",
   "version": "3.9.2"
  }
 },
 "nbformat": 4,
 "nbformat_minor": 2
}
